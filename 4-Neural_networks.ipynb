{
 "cells": [
  {
   "cell_type": "markdown",
   "metadata": {},
   "source": [
    "# Activity recognition on the Capture24 dataset\n",
    "\n",
    "## Neural networks for feature engineering\n",
    "\n",
    "*This section assumes familiarity with [PyTorch](https://pytorch.org/)*\n",
    "\n",
    "Crafting effective features is one of the most crucial parts of\n",
    "machine learning. It is also one of the most difficult and time consuming. So far we\n",
    "trained a random forest using features borrowed from various sources in the\n",
    "literature.\n",
    "In this section, we look at using a neural network to automatically craft\n",
    "relevant features from the raw accelerometer data for the learning task.\n",
    "\n",
    "###### Setup"
   ]
  },
  {
   "cell_type": "code",
   "execution_count": 1,
   "metadata": {},
   "outputs": [],
   "source": [
    "import numpy as np\n",
    "import matplotlib.pyplot as plt\n",
    "import torch\n",
    "import torch.nn as nn\n",
    "import torch.nn.functional as F\n",
    "import torch.optim as optim\n",
    "import torch.backends.cudnn as cudnn\n",
    "from tqdm.auto import tqdm\n",
    "import utils\n",
    "\n",
    "# For reproducibility\n",
    "np.random.seed(42)\n",
    "torch.manual_seed(42)\n",
    "cudnn.benchmark = True"
   ]
  },
  {
   "cell_type": "markdown",
   "metadata": {},
   "source": [
    " ###### Grab a GPU if there is one "
   ]
  },
  {
   "cell_type": "code",
   "execution_count": 2,
   "metadata": {},
   "outputs": [
    {
     "name": "stdout",
     "output_type": "stream",
     "text": [
      "Using cuda device: 0\n"
     ]
    }
   ],
   "source": [
    "if torch.cuda.is_available():\n",
    "    device = torch.device(\"cuda\")\n",
    "    print(\"Using {} device: {}\".format(device, torch.cuda.current_device()))\n",
    "else:\n",
    "    device = torch.device(\"cpu\")\n",
    "    print(\"Using {}\".format(device))"
   ]
  },
  {
   "cell_type": "markdown",
   "metadata": {},
   "source": [
    " ###### Load dataset and hold out some instances for testing "
   ]
  },
  {
   "cell_type": "code",
   "execution_count": 3,
   "metadata": {},
   "outputs": [
    {
     "name": "stdout",
     "output_type": "stream",
     "text": [
      "Contents of capture24.npz: ['X_feats', 'y', 'pid', 'time', 'annotation']\n",
      "Raw dataset shape: (330610, 3, 3000)\n",
      "Shape of X_train (325619, 3, 3000)\n",
      "Shape of X_test (4991, 3, 3000)\n"
     ]
    }
   ],
   "source": [
    "data = np.load('capture24.npz', allow_pickle=True)\n",
    "# data = np.load('capture24_small.npz', allow_pickle=True)\n",
    "print(\"Contents of capture24.npz:\", data.files)\n",
    "y, pid, time = data['y'], data['pid'], data['time']\n",
    "X = np.load('X_raw.npy', mmap_mode='r')\n",
    "# X = np.load('X_raw_small.npy')\n",
    "print(\"Raw dataset shape:\", X.shape)\n",
    "\n",
    "# Hold out some participants for testing the model\n",
    "pids_test = [2, 3]\n",
    "mask_test = np.isin(pid, pids_test)\n",
    "mask_train = ~mask_test\n",
    "y_train, y_test = y[mask_train], y[mask_test]\n",
    "pid_train, pid_test = pid[mask_train], pid[mask_test]\n",
    "# X[mask_train] and X[mask_test] if you like to live dangerously\n",
    "X_train = utils.ArrayFromMask(X, mask_train)\n",
    "X_test = utils.ArrayFromMask(X, mask_test)\n",
    "print(\"Shape of X_train\", X_train.shape)\n",
    "print(\"Shape of X_test\", X_test.shape)"
   ]
  },
  {
   "cell_type": "markdown",
   "metadata": {},
   "source": [
    "###### Architecture design\n",
    "\n",
    "As a baseline model, we use a convolutional neural network (CNN) with a\n",
    "typical pyramid-like structure. The input to the network is a `(N,3,3000)`\n",
    "array, corresponding to `N` instances of raw triaxial measurements of\n",
    "activity.\n",
    "The output of the network is a `(N,5)` array, each row containing predicted\n",
    "*unnormalized class scores*.\n",
    "To obtain probabilities, we can pass each row to a softmax. Then to report a\n",
    "class label, we can pick the highest probability in each row. We output class\n",
    "scores instead of class probabilities or labels because the loss function\n",
    "that we will use operates on the scores [(torch.CrossEntropyLoss)](https://pytorch.org/docs/stable/nn.html#crossentropyloss)."
   ]
  },
  {
   "cell_type": "code",
   "execution_count": 4,
   "metadata": {},
   "outputs": [],
   "source": [
    "class ConvBNReLU(nn.Module):\n",
    "    ''' Convolution + batch normalization + ReLU is a common trio '''\n",
    "    def __init__(\n",
    "        self, in_channels, out_channels,\n",
    "        kernel_size=3, stride=1, padding=1, bias=True\n",
    "    ):\n",
    "        super(ConvBNReLU, self).__init__()\n",
    "\n",
    "        self.main = nn.Sequential(\n",
    "            nn.Conv1d(in_channels, out_channels,\n",
    "                kernel_size, stride, padding, bias=bias),\n",
    "            nn.BatchNorm1d(out_channels),\n",
    "            nn.ReLU(True)\n",
    "        )\n",
    "\n",
    "    def forward(self, x):\n",
    "        return self.main(x)\n",
    "\n",
    "\n",
    "class CNN(nn.Module):\n",
    "    ''' Typical CNN design with pyramid-like structure '''\n",
    "    def __init__(self, output_size=5, in_channels=3, num_filters_init=8):\n",
    "        super(CNN, self).__init__()\n",
    "\n",
    "        self.cnn = nn.Sequential(\n",
    "            ConvBNReLU(in_channels, num_filters_init,\n",
    "            8, 4, 2, bias=False),  # 1500 -> 750\n",
    "            ConvBNReLU(num_filters_init, num_filters_init*2,\n",
    "            6, 4, 2, bias=False),  # 750 -> 188\n",
    "            ConvBNReLU(num_filters_init*2, num_filters_init*4,\n",
    "            8, 4, 2, bias=False),  # 188 -> 47\n",
    "            ConvBNReLU(num_filters_init*4, num_filters_init*8,\n",
    "            3, 2, 1, bias=False),  # 47 -> 24\n",
    "            ConvBNReLU(num_filters_init*8, num_filters_init*16,\n",
    "            4, 2, 1, bias=False),  # 24 -> 12\n",
    "            ConvBNReLU(num_filters_init*16, num_filters_init*32,\n",
    "            4, 2, 1, bias=False),  # 12 -> 6\n",
    "            ConvBNReLU(num_filters_init*32, num_filters_init*64,\n",
    "            6, 1, 0, bias=False),  # 6 -> 1\n",
    "            nn.Conv1d(num_filters_init*64, output_size,\n",
    "            1, 1, 0, bias=True)\n",
    "        )\n",
    "\n",
    "    def forward(self, x):\n",
    "        return self.cnn(x).view(x.shape[0],-1)"
   ]
  },
  {
   "cell_type": "markdown",
   "metadata": {},
   "source": [
    "###### Helper functions\n",
    "\n",
    "We need a few helper functions:\n",
    "- A data loader that will provide the mini-batches during training.\n",
    "- A helper function that forward-passes the model on a dataset by chunks &mdash; this is simply to prevent the memory from blowing up.\n",
    "- A function to train a Hidden Markov Model (HMM) using the probabilistic predictions of the model for smoothing.\n",
    "- A function that evaluates the model (CNN + HMM) on a dataset, to be used to track the performance during training."
   ]
  },
  {
   "cell_type": "code",
   "execution_count": 5,
   "metadata": {},
   "outputs": [],
   "source": [
    "def create_dataloader(X, y=None, batch_size=1, shuffle=False):\n",
    "    ''' Create a (batch) iterator over the dataset. Alternatively, use PyTorch's\n",
    "    Dataset and DataLoader classes -- See\n",
    "    https://pytorch.org/tutorials/beginner/data_loading_tutorial.html '''\n",
    "    if shuffle:\n",
    "        idxs = np.random.permutation(np.arange(len(X)))\n",
    "    else:\n",
    "        idxs = np.arange(len(X))\n",
    "    for i in range(0, len(idxs), batch_size):\n",
    "        idxs_batch = idxs[i:i+batch_size]\n",
    "        X_batch = X[idxs_batch]\n",
    "        X_batch = torch.from_numpy(X_batch)\n",
    "        if y is None:\n",
    "            yield X_batch\n",
    "        else:\n",
    "            y_batch = y[idxs_batch]\n",
    "            y_batch = torch.from_numpy(y_batch)\n",
    "            yield X_batch, y_batch\n",
    "\n",
    "\n",
    "def forward_by_batches(cnn, X):\n",
    "    ''' Forward pass model on a dataset. Do this by batches so that we do\n",
    "    not blow up the memory. '''\n",
    "    Y = []\n",
    "    cnn.eval()\n",
    "    with torch.no_grad():\n",
    "        for x in create_dataloader(X, batch_size=1024, shuffle=False):  # do not shuffle here!\n",
    "            x = x.to(device)\n",
    "            Y.append(cnn(x))\n",
    "    cnn.train()\n",
    "    Y = torch.cat(Y)\n",
    "    return Y\n",
    "\n",
    "\n",
    "def train_hmm(cnn, X, y):\n",
    "    ''' Use the probabilistic predictions of the CNN to compute the Hidden\n",
    "    Markov Model parameters '''\n",
    "    Y_pred = forward_by_batches(cnn, X)  # scores\n",
    "    Y_pred = F.softmax(Y_pred, dim=1)  # probabilities\n",
    "    Y_pred = Y_pred.cpu().numpy()  # cast to numpy array\n",
    "    prior, emission, transition = utils.train_hmm(Y_pred, y)\n",
    "    return prior, emission, transition\n",
    "\n",
    "\n",
    "def evaluate_model(cnn, prior, emission, transition, X, y, pid=None):\n",
    "    Y_pred = forward_by_batches(cnn, X)  # scores\n",
    "    loss = F.cross_entropy(Y_pred, torch.from_numpy(y).to(device)).item()\n",
    "    Y_pred = F.softmax(Y_pred, dim=1)  # convert to probabilities\n",
    "    y_pred = torch.argmax(Y_pred, dim=1)  # convert to classes\n",
    "    y_pred = y_pred.cpu().numpy()  # cast to numpy array\n",
    "    y_pred = utils.viterbi(y_pred, prior, emission, transition)  # HMM smoothing\n",
    "    scores = utils.compute_scores(y, y_pred)\n",
    "    return loss, scores"
   ]
  },
  {
   "cell_type": "markdown",
   "metadata": {},
   "source": [
    "###### Hyperparameters, model instantiation, loss function and optimizer\n",
    "\n",
    "Now we set the hyperparameters, instantiate the model, define the loss\n",
    "function (we use cross entropy for multiclass classification) and optimizer\n",
    "(we use AMSGRAD &mdash; a variant of SGD)."
   ]
  },
  {
   "cell_type": "code",
   "execution_count": 6,
   "metadata": {},
   "outputs": [
    {
     "name": "stdout",
     "output_type": "stream",
     "text": [
      "CNN(\n",
      "  (cnn): Sequential(\n",
      "    (0): ConvBNReLU(\n",
      "      (main): Sequential(\n",
      "        (0): Conv1d(3, 8, kernel_size=(8,), stride=(4,), padding=(2,), bias=False)\n",
      "        (1): BatchNorm1d(8, eps=1e-05, momentum=0.1, affine=True, track_running_stats=True)\n",
      "        (2): ReLU(inplace=True)\n",
      "      )\n",
      "    )\n",
      "    (1): ConvBNReLU(\n",
      "      (main): Sequential(\n",
      "        (0): Conv1d(8, 16, kernel_size=(6,), stride=(4,), padding=(2,), bias=False)\n",
      "        (1): BatchNorm1d(16, eps=1e-05, momentum=0.1, affine=True, track_running_stats=True)\n",
      "        (2): ReLU(inplace=True)\n",
      "      )\n",
      "    )\n",
      "    (2): ConvBNReLU(\n",
      "      (main): Sequential(\n",
      "        (0): Conv1d(16, 32, kernel_size=(8,), stride=(4,), padding=(2,), bias=False)\n",
      "        (1): BatchNorm1d(32, eps=1e-05, momentum=0.1, affine=True, track_running_stats=True)\n",
      "        (2): ReLU(inplace=True)\n",
      "      )\n",
      "    )\n",
      "    (3): ConvBNReLU(\n",
      "      (main): Sequential(\n",
      "        (0): Conv1d(32, 64, kernel_size=(3,), stride=(2,), padding=(1,), bias=False)\n",
      "        (1): BatchNorm1d(64, eps=1e-05, momentum=0.1, affine=True, track_running_stats=True)\n",
      "        (2): ReLU(inplace=True)\n",
      "      )\n",
      "    )\n",
      "    (4): ConvBNReLU(\n",
      "      (main): Sequential(\n",
      "        (0): Conv1d(64, 128, kernel_size=(4,), stride=(2,), padding=(1,), bias=False)\n",
      "        (1): BatchNorm1d(128, eps=1e-05, momentum=0.1, affine=True, track_running_stats=True)\n",
      "        (2): ReLU(inplace=True)\n",
      "      )\n",
      "    )\n",
      "    (5): ConvBNReLU(\n",
      "      (main): Sequential(\n",
      "        (0): Conv1d(128, 256, kernel_size=(4,), stride=(2,), padding=(1,), bias=False)\n",
      "        (1): BatchNorm1d(256, eps=1e-05, momentum=0.1, affine=True, track_running_stats=True)\n",
      "        (2): ReLU(inplace=True)\n",
      "      )\n",
      "    )\n",
      "    (6): ConvBNReLU(\n",
      "      (main): Sequential(\n",
      "        (0): Conv1d(256, 512, kernel_size=(6,), stride=(1,), bias=False)\n",
      "        (1): BatchNorm1d(512, eps=1e-05, momentum=0.1, affine=True, track_running_stats=True)\n",
      "        (2): ReLU(inplace=True)\n",
      "      )\n",
      "    )\n",
      "    (7): Conv1d(512, 5, kernel_size=(1,), stride=(1,))\n",
      "  )\n",
      ")\n"
     ]
    }
   ],
   "source": [
    "num_filters_init = 8  # initial num of filters -- see class definition\n",
    "in_channels = 3  # num channels of the signal -- equal to 3 for our raw triaxial timeseries\n",
    "output_size = 5  # number of classes (sleep, sedentary, etc...)\n",
    "num_epoch = 20  # num epochs (full loops though the training set) for SGD training\n",
    "lr = 1e-3  # learning rate in SGD\n",
    "batch_size = 32  # size of the mini-batch in SGD\n",
    "\n",
    "cnn = CNN(\n",
    "    output_size=output_size,\n",
    "    in_channels=in_channels,\n",
    "    num_filters_init=num_filters_init\n",
    ").to(device)\n",
    "print(cnn)\n",
    "\n",
    "loss_fn = nn.CrossEntropyLoss()\n",
    "optimizer = optim.Adam(cnn.parameters(), lr=lr, amsgrad=True)"
   ]
  },
  {
   "cell_type": "markdown",
   "metadata": {},
   "source": [
    "###### Training\n",
    "\n",
    "Training via mini-batch gradient descent begins here. We loop through the training set `num_epoch` times with the `dataloader` iterator."
   ]
  },
  {
   "cell_type": "code",
   "execution_count": 7,
   "metadata": {},
   "outputs": [
    {
     "data": {
      "application/vnd.jupyter.widget-view+json": {
       "model_id": "b4e4c73e0857465aa9c4c4f709cd94dd",
       "version_major": 2,
       "version_minor": 0
      },
      "text/plain": [
       "HBox(children=(IntProgress(value=0, max=20), HTML(value='')))"
      ]
     },
     "metadata": {},
     "output_type": "display_data"
    },
    {
     "name": "stdout",
     "output_type": "stream",
     "text": [
      "\n"
     ]
    }
   ],
   "source": [
    "accuracy_history = []\n",
    "balanced_accuracy_history = []\n",
    "kappa_history = []\n",
    "loss_history = []\n",
    "loss_history_train = []\n",
    "for i in tqdm(range(num_epoch)):\n",
    "    dataloader = create_dataloader(X_train, y_train, batch_size, shuffle=True)\n",
    "    losses = []\n",
    "    for x, target in dataloader:\n",
    "        x, target = x.to(device), target.to(device)\n",
    "        cnn.zero_grad()\n",
    "        output = cnn(x)\n",
    "        loss = loss_fn(output, target)\n",
    "        loss.backward()\n",
    "        optimizer.step()\n",
    "\n",
    "        # Logging -- track train loss\n",
    "        losses.append(loss.item())\n",
    "\n",
    "    # -------------------------------------------------------------------------\n",
    "    # Evaluate performance at the end of each epoch (full loop through the\n",
    "    # training set). We could also do this at every iteration, but this would\n",
    "    # be very expensive since we are evaluating on a large dataset.\n",
    "    # Aditionally, at the end of each epoch we train a Hidden Markov Model to\n",
    "    # smooth the predictions of the CNN.\n",
    "    # -------------------------------------------------------------------------\n",
    "\n",
    "    # Logging -- average train loss in this epoch\n",
    "    loss_history_train.append(np.mean(losses))\n",
    "\n",
    "    # Compute HMM params\n",
    "    prior, emission, transition = train_hmm(cnn, X_train, y_train)\n",
    "\n",
    "    # Logging -- evalutate performance on test set\n",
    "    loss_test, scores_test = evaluate_model(\n",
    "        cnn, prior, emission, transition, X_test, y_test, pid_test\n",
    "    )\n",
    "    loss_history.append(loss_test)\n",
    "    accuracy_history.append(scores_test['accuracy'])\n",
    "    balanced_accuracy_history.append(scores_test['balanced_accuracy'])\n",
    "    kappa_history.append(scores_test['kappa'])"
   ]
  },
  {
   "cell_type": "markdown",
   "metadata": {},
   "source": [
    " ###### Plot score and loss history "
   ]
  },
  {
   "cell_type": "code",
   "execution_count": 8,
   "metadata": {},
   "outputs": [
    {
     "name": "stdout",
     "output_type": "stream",
     "text": [
      "Accuracy score: 0.8567421358445201\n",
      "Balanced accuracy score: 0.633061215069181\n",
      "Cohen kappa score: 0.7737012329808164\n",
      "\n",
      "Per-class recall scores:\n",
      "sleep      : 0.9387966804979253\n",
      "sedentary  : 0.9067987393066187\n",
      "tasks-light: 0.1171875\n",
      "walking    : 0.5193548387096775\n",
      "moderate   : 0.6831683168316832\n",
      "\n",
      "Confusion matrix:\n",
      " [[1810  114    4    0    0]\n",
      " [ 142 2014   14   31   20]\n",
      " [   5   89   15   10    9]\n",
      " [   2   51   37  161   59]\n",
      " [   1   39   43   45  276]]\n"
     ]
    },
    {
     "data": {
      "image/png": "[encoded data removed]",
      "text/plain": [
       "<Figure size 432x288 with 1 Axes>"
      ]
     },
     "metadata": {
      "needs_background": "light"
     },
     "output_type": "display_data"
    },
    {
     "data": {
      "image/png": "[encoded data removed]",
      "text/plain": [
       "<Figure size 432x288 with 1 Axes>"
      ]
     },
     "metadata": {
      "needs_background": "light"
     },
     "output_type": "display_data"
    }
   ],
   "source": [
    "# Loss history\n",
    "fig, ax = plt.subplots()\n",
    "ax.plot(loss_history_train, color='C0', label='train')\n",
    "ax.plot(loss_history, color='C1', label='test')\n",
    "ax.set_ylabel('loss')\n",
    "ax.set_xlabel('epoch')\n",
    "ax.legend()\n",
    "fig.show()\n",
    "\n",
    "# Scores history\n",
    "fig, ax = plt.subplots()\n",
    "ax.plot(accuracy_history, label='accuracy')\n",
    "ax.plot(balanced_accuracy_history, label='balanced accuracy')\n",
    "ax.plot(kappa_history, label='kappa')\n",
    "ax.set_ylabel('score')\n",
    "ax.set_xlabel('epoch')\n",
    "ax.legend()\n",
    "fig.show()\n",
    "\n",
    "# Scores details -- last epoch\n",
    "utils.print_scores(scores_test)"
   ]
  },
  {
   "cell_type": "markdown",
   "metadata": {},
   "source": [
    "###### Ideas\n",
    "- Implement early stopping to select the model at its best out-of-sample performance. Do we track kappa or accuracy?\n",
    "- Helping the model to learn:\n",
    "    - As an attempt to remove gravity, try detrending the signal. You can implement this in the dataloader:\n",
    "\n",
    "        ```python\n",
    "        # Do this before torch.from_numpy()\n",
    "        X_batch = scipy.signal.detrend(X_batch, type='constant')\n",
    "        ```\n",
    "\n",
    "        See [scipy.signal.detrend](https://docs.scipy.org/doc/scipy/reference/generated/scipy.signal.detrend.html). More generally, consider removing the low frequencies of the signal, e.g. 0 - 0.5Hz.\n",
    "\n",
    "    - Add a 4th channel containing the vector magnitude, i.e. $(x,y,z,r)$ where $r = \\sqrt{x^2+y^2+z^2}$. You can implement this in the dataloader:\n",
    "\n",
    "        ```python\n",
    "        # Do this before torch.from_numpy()\n",
    "        X_batch = np.concatenate((X_batch, np.linalg.norm(X_batch, axis=1, keepdims=True)), axis=1)\n",
    "        ```\n",
    "\n",
    "    - Consider using [spherical coordinates](https://en.wikipedia.org/wiki/Spherical_coordinate_system), or adding them as additional channels.\n",
    "\n",
    "- Modify the architecture. Feel free to use recent architectures such as ResNet.\n",
    "\n",
    "###### References\n",
    "\n",
    "- [A recipe for training neural networks](http://karpathy.github.io/2019/04/25/recipe/)\n",
    "- [PyTorch's Conv1d module](https://pytorch.org/docs/stable/nn.html#conv1d)"
   ]
  }
 ],
 "metadata": {
  "anaconda-cloud": {},
  "kernelspec": {
   "display_name": "Python 3",
   "language": "python",
   "name": "python3"
  },
  "language_info": {
   "codemirror_mode": {
    "name": "ipython",
    "version": 3
   },
   "file_extension": ".py",
   "mimetype": "text/x-python",
   "name": "python",
   "nbconvert_exporter": "python",
   "pygments_lexer": "ipython3",
   "version": "3.7.4"
  }
 },
 "nbformat": 4,
 "nbformat_minor": 1
}
