{
  "cells": [
    {
      "cell_type": "markdown",
      "metadata": {},
      "source": [
        "# Activity recognition on the Capture24 dataset -- Long short-term memory\n",
        "\n",
        "*This section assumes familiarity with [PyTorch](https://pytorch.org/)*\n",
        "\n",
        "We have seen the importance of accounting for the temporal dependencies in the data to improve the classification accuracy. Here we look at using a more flexible model -- the Long short-term memory -- to improve performance.\n",
        "\n",
        "Setup:"
      ]
    },
    {
      "cell_type": "code",
      "metadata": {},
      "source": [
        "import numpy as np\n",
        "from scipy.ndimage import median_filter\n",
        "from sklearn.ensemble import RandomForestClassifier\n",
        "import torch\n",
        "import torch.nn as nn\n",
        "import torch.nn.functional as F\n",
        "import torch.optim as optim\n",
        "import torch.backends.cudnn as cudnn\n",
        "from tqdm import tqdm\n",
        "import utils\n",
        "\n",
        "# For reproducibility\n",
        "np.random.seed(42)\n",
        "torch.manual_seed(42)\n",
        "cudnn.benchmark = True"
      ],
      "outputs": [],
      "execution_count": null
    },
    {
      "cell_type": "markdown",
      "metadata": {},
      "source": [
        " Load dataset and hold out some instances for testing: "
      ]
    },
    {
      "cell_type": "code",
      "metadata": {},
      "source": [
        "data = np.load('capture24_small.npz', allow_pickle=True)\n",
        "print(\"Data contents:\", data.files)\n",
        "X, y, pid, time = data['X_feats'], data['y'], data['pid'], data['time']\n",
        "\n",
        "# Hold out some participants for testing the model\n",
        "test_pids = [2, 3]\n",
        "test_mask = np.isin(pid, test_pids)\n",
        "train_mask = ~np.isin(pid, test_pids)\n",
        "X_train, y_train, pid_train = X[train_mask], y[train_mask], pid[train_mask]\n",
        "X_test, y_test, pid_test = X[test_mask], y[test_mask], pid[test_mask]\n",
        "\n",
        "print(\"Shape of X_train:\", X_train.shape)\n",
        "print(\"Shape of X_test:\", X_test.shape)"
      ],
      "outputs": [],
      "execution_count": null
    },
    {
      "cell_type": "code",
      "metadata": {},
      "source": [
        "classifier = RandomForestClassifier(n_estimators=100, n_jobs=2)\n",
        "classifier.fit(X_train, y_train)\n",
        "Y_train_pred = classifier.predict_proba(X_train)\n",
        "# Y_train = utils.encode_one_hot(y_train)\n",
        "\n",
        "Y_train_pred_torch = torch.from_numpy(Y_train_pred.astype('float32'))\n",
        "# Y_train_torch = torch.from_numpy(Y_train.astype('float32'))\n",
        "y_train_torch = torch.from_numpy(y_train)\n",
        "\n",
        "# testing\n",
        "#TODO: function that windows through X_train, X_test\n",
        "#TODO: batch sizing"
      ],
      "outputs": [],
      "execution_count": null
    },
    {
      "cell_type": "markdown",
      "metadata": {},
      "source": [
        " Define a dataset iterator that will provide the mini-batches during training "
      ]
    },
    {
      "cell_type": "code",
      "metadata": {},
      "source": [
        "def create_dataloader(batch_size=1):\n",
        "    # for i in range(2,len(Y_train_pred_torch)):\n",
        "    #     sequence = torch.stack((\n",
        "    #         Y_train_pred_torch[i-2],\n",
        "    #         Y_train_pred_torch[i-1],\n",
        "    #         Y_train_pred_torch[i]\n",
        "    #     )).view(3, 1, -1)\n",
        "    #     target = y_train_torch[i].view(1)\n",
        "    #     yield sequence, target\n",
        "    Y = torch.stack((\n",
        "        Y_train_pred_torch[:-2],\n",
        "        Y_train_pred_torch[1:-1],\n",
        "        Y_train_pred_torch[2:]\n",
        "    ))\n",
        "    nbatch = Y.shape[1]//batch_size\n",
        "    idxs = np.random.permutation(np.arange(Y.shape[1]))\n",
        "    for i in range(nbatch):\n",
        "        # batch = []\n",
        "        # for j in range(batch_size):\n",
        "        #     batch.append(Y[:,i].view(3, 1, -1))\n",
        "        # batch = torch.cat(batch, dim=1)\n",
        "        # sequence_batch = Y[:,i:i+batch_size]\n",
        "        # target_batch = y_train_torch[i:i+batch_size]\n",
        "        _idxs = idxs[i:i+batch_size]\n",
        "        sequence_batch = Y[:,_idxs]\n",
        "        target_batch = y_train_torch[_idxs]\n",
        "        yield sequence_batch, target_batch"
      ],
      "outputs": [],
      "execution_count": null
    },
    {
      "cell_type": "markdown",
      "metadata": {},
      "source": [
        " Define a simple LSTM model"
      ]
    },
    {
      "cell_type": "code",
      "metadata": {},
      "source": [
        "class LSTM(nn.Module):\n",
        "\n",
        "    def __init__(self, embedding_dim, hidden_dim, output_dim):\n",
        "        super(LSTM, self).__init__()\n",
        "        self.embedding_dim = embedding_dim\n",
        "        self.hidden_dim = hidden_dim\n",
        "        self.output_dim = output_dim\n",
        "        self.lstm = nn.LSTM(embedding_dim, hidden_dim)\n",
        "        self.hidden2output = nn.Linear(hidden_dim, output_dim)\n",
        "\n",
        "    def forward(self, sequence):\n",
        "        _, (hidden_last, cell_last) = self.lstm(\n",
        "            sequence.view(len(sequence), -1, self.embedding_dim))\n",
        "        output = self.hidden2output(hidden_last.view(-1, self.hidden_dim))\n",
        "        # output = F.log_softmax(output, dim=1)\n",
        "        return output"
      ],
      "outputs": [],
      "execution_count": null
    },
    {
      "cell_type": "markdown",
      "metadata": {},
      "source": [
        " Instantiate LSTM model, define loss function and optimizer "
      ]
    },
    {
      "cell_type": "code",
      "metadata": {},
      "source": [
        "HIDDEN_DIM = 4\n",
        "lstm = LSTM(utils.NUM_CLASSES, HIDDEN_DIM, utils.NUM_CLASSES)\n",
        "\n",
        "loss_fn = nn.CrossEntropyLoss()\n",
        "optimizer = optim.Adam(lstm.parameters(), lr=1e-2, amsgrad=True)"
      ],
      "outputs": [],
      "execution_count": null
    },
    {
      "cell_type": "markdown",
      "metadata": {},
      "source": [
        " Training via mini-batch gradient descent begins here. We loop through the training set `max_iter` times with the `dataloader` iterator."
      ]
    },
    {
      "cell_type": "code",
      "metadata": {},
      "source": [
        "max_iter = 100\n",
        "batch_size = 32\n",
        "losses = []\n",
        "for i in tqdm(range(max_iter)):\n",
        "    dataloader = create_dataloader(batch_size)\n",
        "    for sequence, target in dataloader:\n",
        "        lstm.zero_grad()\n",
        "        output = lstm(sequence)\n",
        "        loss = loss_fn(output, target)\n",
        "        loss.backward()\n",
        "        optimizer.step()\n",
        "        losses.append(loss.item())\n",
        "\n",
        "utils.plt.semilogy(median_filter(losses, size=100))\n",
        "utils.plt.savefig('lstm_loss.png')"
      ],
      "outputs": [],
      "execution_count": null
    },
    {
      "cell_type": "markdown",
      "metadata": {},
      "source": [
        " Evaluate the model on the hold out set "
      ]
    },
    {
      "cell_type": "code",
      "metadata": {},
      "source": [
        "print(\"Testing...\")\n",
        "lstm.eval()\n",
        "Y_test_pred = classifier.predict_proba(X_test)\n",
        "Y_test_pred_torch = torch.from_numpy(Y_test_pred.astype('float32'))\n",
        "y_test_pred_lstm = [np.argmax(Y_test_pred[0]), np.argmax(Y_test_pred[1])]\n",
        "with torch.no_grad():\n",
        "    for i in range(2,len(Y_test_pred_torch)):\n",
        "        sequence = torch.stack((\n",
        "            Y_test_pred_torch[i-2],\n",
        "            Y_test_pred_torch[i-1],\n",
        "            Y_test_pred_torch[i]\n",
        "        )).view(3, 1, -1)\n",
        "        y_test_pred_lstm.append(torch.argmax(F.softmax(lstm(sequence), dim=-1)).item())\n",
        "y_test_pred_lstm = np.asarray(y_test_pred_lstm)\n",
        "print(\"Cohen kappa score:\", utils.cohen_kappa_score(y_test, y_test_pred_lstm, pid_test))\n",
        "print(\"Accuracy score:\", utils.accuracy_score(y_test, y_test_pred_lstm, pid_test))\n"
      ],
      "outputs": [],
      "execution_count": null
    }
  ],
  "metadata": {
    "anaconda-cloud": {},
    "kernelspec": {
      "display_name": "Python 3",
      "language": "python",
      "name": "python3"
    },
    "language_info": {
      "codemirror_mode": {
        "name": "ipython",
        "version": 3
      },
      "file_extension": ".py",
      "mimetype": "text/x-python",
      "name": "python",
      "nbconvert_exporter": "python",
      "pygments_lexer": "ipython3",
      "version": "3.6.1"
    }
  },
  "nbformat": 4,
  "nbformat_minor": 1
}