{
 "cells": [
  {
   "cell_type": "markdown",
   "metadata": {},
   "source": [
    "# The Capture24 dataset\n",
    "\n",
    "<img src=\"ax3_orientation.jpg\" width=\"300\"/>\n",
    "\n",
    "The Capture24 dataset consists of wrist-worn accelerometer measurements collected from about 150 participants that wore the device for 24 hours.\n",
    "Along with the accelerometer, the participants also wore a body camera that recorded their daily activities. Thus, an activity label is assigned to every 30 seconds of accelerometer reading. The identified activities are *sleep*, *sedentary*, *tasks-light*, *walking* and *moderate*.\n",
    "\n",
    "The two main files we will work with are `X_raw.dat` and `capture24.npz`. The\n",
    "first contains the raw accelerometer measurements and the latter is a bundle\n",
    "of numpy arrays including, among other things, hand-crafted features extracted from the raw measurements and corresponding activity labels.\n",
    "\n",
    "###### Setup"
   ]
  },
  {
   "cell_type": "code",
   "execution_count": null,
   "metadata": {},
   "outputs": [],
   "source": [
    "import numpy as np\n",
    "import matplotlib.pyplot as plt\n",
    "from sklearn import decomposition\n",
    "from sklearn import preprocessing\n",
    "from sklearn import manifold\n",
    "import utils  # contains helper functions for this workshop -- check utils.py\n",
    "\n",
    "# For reproducibility\n",
    "np.random.seed(42)\n",
    "\n",
    "# A useful plotting function\n",
    "def my_scatter_plot(X, y):\n",
    "    fig, ax = plt.subplots()\n",
    "    for i in range(utils.NUM_CLASSES):\n",
    "        ax.scatter(X[y==i, 0], X[y==i, 1],\n",
    "            c=utils.COLORS[i], label=utils.CLASSES[i], alpha=0.25, s=10)\n",
    "    fig.legend()\n",
    "    return fig, ax"
   ]
  },
  {
   "cell_type": "markdown",
   "metadata": {},
   "source": [
    "###### Load the dataset files "
   ]
  },
  {
   "cell_type": "code",
   "execution_count": null,
   "metadata": {},
   "outputs": [],
   "source": [
    "# data = np.load('capture24.npz', allow_pickle=True)\n",
    "data = np.load('capture24_small.npz', allow_pickle=True)\n",
    "print(\"Contents of capture24.npz:\", data.files)\n",
    "X_feats, y, pid, time, annotation = \\\n",
    "    data['X_feats'], data['y'], data['pid'], data['time'], data['annotation']\n",
    "print('X_feats shape:', X_feats.shape)\n",
    "print('y shape:', y.shape)\n",
    "print('pid shape:', pid.shape)\n",
    "print('time shape:', time.shape)\n",
    "print('annotation shape:', annotation.shape)\n",
    "# X_raw = utils.load_raw('X_raw.dat')\n",
    "X_raw = np.load('X_raw_small.npy')\n",
    "print('X_raw shape:', X_raw.shape)"
   ]
  },
  {
   "cell_type": "markdown",
   "metadata": {},
   "source": [
    "###### Description of the arrays\n",
    "\n",
    "- `X_raw` array of shape `(N,3,3000)` where each row corresponds to 30 seconds of raw tri-axial measurement at 100Hz.\n",
    "\n",
    "- `X_feats` numpy array of shape `(N,125)` where each row corresponds to *hand-crafted features* extracted from the raw 30 seconds measurement. These are collections of several features used in the literature such as mean acceleration, covariances between axes, Fourier coefficients, estimated angles, etc. For details, see *References* at the bottom.\n",
    "\n",
    "- `y` numpy array of shape `(N,)` indicating the activity (0: sleep, 1: sedentary, 2: tasks-light, 3: walking, 4: moderate) performed during the 30 seconds instance.\n",
    "\n",
    "- `time` numpy array of shape `(N,)` indicating the start time of the corresponding measurement.\n",
    "\n",
    "- `pid` numpy array of shape `(N,)` indicating the participant ID for the corresponding instance.\n",
    "\n",
    "- `annotation` numpy array of shape `(N,)` containing fine-grained descriptions of the activity performed in the corresponding instance.\n",
    "\n",
    "Arrays `X_feats`, `y`, `time`, `pid` and `annotation` are stored in a single `capture24.npz` file, while `X_raw` is stored separately as a numpy `memmap` due to its large size (~11GB).\n",
    "\n",
    "**Note:**\n",
    "The provided arrays `X_feats`, `X_raw`, `y`, etc. are so that consecutive\n",
    "rows correspond to continuous measurements in time for a same participant.\n",
    "Discontinuities will naturally occur at the edges between two participants, which can be inferred from the `pid` array.\n",
    "Interrupts in the measurement within a same participant may also occur\n",
    "(e.g. device run out of battery), and can be inferred from `time` array."
   ]
  },
  {
   "cell_type": "markdown",
   "metadata": {},
   "source": [
    "# Visualization\n",
    "Visualizing the dataset is an important part of data science. This can\n",
    "provide useful insights about the problem at hand.\n",
    "\n",
    "Let's visualize one instance of each activity identified:"
   ]
  },
  {
   "cell_type": "code",
   "execution_count": null,
   "metadata": {},
   "outputs": [],
   "source": [
    "fig, axs = plt.subplots(5, sharex=True, sharey=True, figsize=(5,5))\n",
    "for i in range(utils.NUM_CLASSES):\n",
    "    axs[i].plot(X_raw[y == i][0].T)\n",
    "    axs[i].set_title(utils.CLASSES[i])\n",
    "fig.tight_layout()\n",
    "fig.show()"
   ]
  },
  {
   "cell_type": "markdown",
   "metadata": {},
   "source": [
    "After visualizing individual instances, the next step is to visualize\n",
    "our dataset as a whole to have a grasp of the data distribution. A\n",
    "standard visualization approach is to scatter-plot the two principal\n",
    "components of our dataset.\n",
    "For performance, let us perform the visualization on\n",
    "a smaller subset of our data since our data is rather big:"
   ]
  },
  {
   "cell_type": "code",
   "execution_count": null,
   "metadata": {},
   "outputs": [],
   "source": [
    "# grab data from five participants\n",
    "mask = np.isin(data['pid'], [1, 2, 3, 4, 5])\n",
    "X_raw = X_raw[mask]\n",
    "X_feats = X_feats[mask]\n",
    "y = y[mask]\n",
    "pid = pid[mask]\n",
    "time = time[mask]\n",
    "annotation = annotation[mask]"
   ]
  },
  {
   "cell_type": "markdown",
   "metadata": {},
   "source": [
    "###### PCA visualization "
   ]
  },
  {
   "cell_type": "code",
   "execution_count": null,
   "metadata": {},
   "outputs": [],
   "source": [
    "print(\"Plotting first two PCA components...\")\n",
    "scaler = preprocessing.StandardScaler()  # PCA requires normalized data\n",
    "X_raw_scaled = scaler.fit_transform(X_raw.reshape(X_raw.shape[0],-1))\n",
    "pca = decomposition.PCA(n_components=2)  # two components\n",
    "X_pca = pca.fit_transform(X_raw_scaled)\n",
    "fig, ax = my_scatter_plot(X_pca, y)\n",
    "fig.show()"
   ]
  },
  {
   "cell_type": "markdown",
   "metadata": {},
   "source": [
    "###### t-SNE visualization\n",
    "The PCA plot is already very informative. What if we want to\n",
    "visualize more components? A popular high-dimensional data visualization tool\n",
    "is _t-distributed stochastic neighbor embedding_ (t-SNE). We next use t-SNE to\n",
    "visualize 128 principal components of our raw dataset:"
   ]
  },
  {
   "cell_type": "code",
   "execution_count": null,
   "metadata": {},
   "outputs": [],
   "source": [
    "print(\"Plotting t-SNE on PCA components...\")\n",
    "pca = decomposition.PCA(n_components=128)  # 128 components\n",
    "X_pca = pca.fit_transform(X_raw_scaled)\n",
    "tsne = manifold.TSNE(n_components=2,  # project down to 2 components\n",
    "    init='random', random_state=42, perplexity=100)\n",
    "X_tsne_pca = tsne.fit_transform(X_pca)\n",
    "fig, ax = my_scatter_plot(X_tsne_pca, y)\n",
    "fig.show()"
   ]
  },
  {
   "cell_type": "markdown",
   "metadata": {},
   "source": [
    "###### t-SNE on `X_feats`\n",
    "\n",
    "Finally, let's perform a t-SNE visualization this time on the\n",
    "hand-crafted features `X_feats`:"
   ]
  },
  {
   "cell_type": "code",
   "execution_count": null,
   "metadata": {},
   "outputs": [],
   "source": [
    "print(\"Plotting t-SNE on hand-crafted features...\")\n",
    "tsne = manifold.TSNE(n_components=2,\n",
    "    init='random', random_state=42, perplexity=100)\n",
    "X_tsne_feats = tsne.fit_transform(X_feats)\n",
    "fig, ax = my_scatter_plot(X_tsne_feats, y)\n",
    "fig.show()"
   ]
  },
  {
   "cell_type": "markdown",
   "metadata": {},
   "source": [
    "Our preliminary plots seem to suggest that classifying \"sleep\" and\n",
    "\"sedentary\" activities may be easy while classifying \"tasks-light\", \"walking\"\n",
    "and \"moderate\" activities may be more challenging.\n",
    "\n",
    "###### Ideas\n",
    "\n",
    "- Tune the `perplexity` parameter of t-SNE to see how it affects the plots.\n",
    "- Our dataset is highly unbalanced:"
   ]
  },
  {
   "cell_type": "code",
   "execution_count": null,
   "metadata": {},
   "outputs": [],
   "source": [
    "print(np.unique(y, return_counts=True))"
   ]
  },
  {
   "cell_type": "markdown",
   "metadata": {},
   "source": [
    "As seen, there is barely any \"tasks-light\" activities (category 2). To aid the\n",
    "visualization, try balancing the activities to be scatter-plotted.\n",
    "\n",
    "###### References\n",
    "- Source of the hand-crafted features:\n",
    "    - [Physical activity classification using the GENEA wrist-worn accelerometer](https://www.ncbi.nlm.nih.gov/pubmed/21988935)\n",
    "    - [A universal, accurate intensity-based classification of different physical activities using raw data of accelerometer](https://www.ncbi.nlm.nih.gov/pubmed/24393233)\n",
    "    - [Activity recognition using a single accelerometer placed at the wrist or ankle](https://www.ncbi.nlm.nih.gov/pubmed/23604069)\n",
    "    - [Hip and Wrist Accelerometer Algorithms for Free-Living Behavior Classification](https://www.ncbi.nlm.nih.gov/pubmed/26673126)"
   ]
  }
 ],
 "metadata": {
  "anaconda-cloud": {},
  "kernelspec": {
   "display_name": "Python 3",
   "language": "python",
   "name": "python3"
  },
  "language_info": {
   "codemirror_mode": {
    "name": "ipython",
    "version": 3
   },
   "file_extension": ".py",
   "mimetype": "text/x-python",
   "name": "python",
   "nbconvert_exporter": "python",
   "pygments_lexer": "ipython3",
   "version": "3.7.3"
  }
 },
 "nbformat": 4,
 "nbformat_minor": 1
}
