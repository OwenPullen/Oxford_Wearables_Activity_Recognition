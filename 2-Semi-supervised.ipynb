{
  "cells": [
    {
      "cell_type": "markdown",
      "metadata": {},
      "source": [
        "# Activity recognition on the Capture24 dataset -- Semi-supervised learning\n",
        "\n",
        "In this section, we explore how to improve the classification performance\n",
        "using semi-supervised learning. Semi-supervised learning is of great interest\n",
        "in practice because while data collection is becoming easier and cheaper,\n",
        "labeling the data still requires expensive human labor. For example,\n",
        "while the Capture24 provides labelled data, it is unfeasible to obtain this for the UK Biobank of ~100k participants.\n",
        "Semi-supervised learning aims to make use of unlabeled data to inform the input distribution to potentially improve the classification.\n",
        "\n",
        "Setup:"
      ]
    },
    {
      "cell_type": "code",
      "metadata": {},
      "source": [
        "import numpy as np\n",
        "from sklearn.ensemble import RandomForestClassifier\n",
        "from sklearn.metrics import confusion_matrix\n",
        "from tqdm import tqdm\n",
        "import utils\n",
        "\n",
        "# For reproducibility\n",
        "np.random.seed(42)\n"
      ],
      "outputs": [],
      "execution_count": null
    },
    {
      "cell_type": "markdown",
      "metadata": {},
      "source": [
        " Load dataset and hold out some instances for testing: "
      ]
    },
    {
      "cell_type": "code",
      "metadata": {},
      "source": [
        "# data = np.load('capture24.npz', allow_pickle=True)\n",
        "data = np.load('capture24_small.npz', allow_pickle=True)\n",
        "print(\"Data contents:\", data.files)\n",
        "X, y, pid, time = data['X_feats'], data['y'], data['pid'], data['time']\n",
        "\n",
        "# Hold out some participants for testing the model\n",
        "test_pids = [2, 3]\n",
        "test_mask = np.isin(pid, test_pids)\n",
        "train_mask = ~np.isin(pid, test_pids)\n",
        "X_train, y_train, pid_train = X[train_mask], y[train_mask], pid[train_mask]\n",
        "X_test, y_test, pid_test = X[test_mask], y[test_mask], pid[test_mask]\n",
        "\n",
        "print(\"Shape of X_train:\", X_train.shape)\n",
        "print(\"Shape of X_test:\", X_test.shape)\n"
      ],
      "outputs": [],
      "execution_count": null
    },
    {
      "cell_type": "markdown",
      "metadata": {},
      "source": [
        "One of the simplest semi-supervised methods is self-training. The idea is to simply evaluate a trained model on the unlabeled instances and incorporate those with high confidence predictions into the training set, then re-train the model on the augmented set. The process is repeated several times.\n",
        "This simple technique works well when the initial model performance is already strong. If the initial model is weak, however, it tends to reinforce the mistakes in its predictions.\n",
        "\n",
        "In the following, we train a random forest classifier with self-training:"
      ]
    },
    {
      "cell_type": "code",
      "metadata": {},
      "source": [
        "classifier = RandomForestClassifier(n_estimators=100, oob_score=True, n_jobs=2)\n",
        "\n",
        "# initial model and predictions\n",
        "classifier.fit(X_train, y_train)\n",
        "y_test_pred = classifier.predict(X_test)\n",
        "y_test_prob = classifier.predict_proba(X_test)\n",
        "y_test_pred_old = None\n",
        "max_iter = 10\n",
        "prob_threshold = 0.8\n",
        "\n",
        "for i in tqdm(range(max_iter)):\n",
        "\n",
        "    if np.array_equal(y_test_pred, y_test_pred_old):\n",
        "        tqdm.write(\"Iteration stopped: no more change found in self-training\")\n",
        "        break\n",
        "\n",
        "    y_test_pred_old = np.copy(y_test_pred)\n",
        "    confident_mask = np.any(y_test_prob > prob_threshold, axis=1)\n",
        "    tqdm.write(f\"Using {np.sum(confident_mask)} instances from the test set\")\n",
        "\n",
        "    # re-train on augmented set\n",
        "    classifier.fit(\n",
        "        np.vstack((X_train, X_test[confident_mask])),\n",
        "        np.hstack((y_train, y_test_pred_old[confident_mask]))\n",
        "    )\n",
        "\n",
        "    # updated predictions\n",
        "    y_test_pred = classifier.predict(X_test)\n",
        "    y_test_prob = classifier.predict_proba(X_test)"
      ],
      "outputs": [],
      "execution_count": null
    },
    {
      "cell_type": "markdown",
      "metadata": {},
      "source": [
        " Smooth the predictions via HMM and evaluate "
      ]
    },
    {
      "cell_type": "code",
      "metadata": {},
      "source": [
        "Y_oob = classifier.oob_decision_function_[:y_train.shape[0]]\n",
        "prior, emission, transition = utils.train_hmm(Y_oob, y_train)\n",
        "y_test_pred = classifier.predict(X_test)\n",
        "y_test_hmm = utils.viterbi(y_test_pred, prior, transition, emission)\n",
        "print(\"\\n--- Random forest performance with self-training and HMM smoothing ---\")\n",
        "print(\"Cohen kappa score:\", utils.cohen_kappa_score(y_test, y_test_hmm, pid_test))\n",
        "print(\"Accuracy score:\", utils.accuracy_score(y_test, y_test_hmm, pid_test))\n",
        "print(\"Confusion matrix:\\n\", confusion_matrix(y_test, y_test_hmm))"
      ],
      "outputs": [],
      "execution_count": null
    },
    {
      "cell_type": "markdown",
      "metadata": {},
      "source": [
        "*Challenge*\n",
        "\n",
        "- Can you improve the current models using semi-supervised methods?\n",
        "\n",
        "*Ideas & References*\n",
        "- Incorporate the HMM smoothing into the self-training loop?\n",
        "- [Semi-supervised methods in sklearn](https://scikit-learn.org/stable/modules/label_propagation.html)"
      ]
    }
  ],
  "metadata": {
    "anaconda-cloud": {},
    "kernelspec": {
      "display_name": "Python 3",
      "language": "python",
      "name": "python3"
    },
    "language_info": {
      "codemirror_mode": {
        "name": "ipython",
        "version": 3
      },
      "file_extension": ".py",
      "mimetype": "text/x-python",
      "name": "python",
      "nbconvert_exporter": "python",
      "pygments_lexer": "ipython3",
      "version": "3.6.1"
    }
  },
  "nbformat": 4,
  "nbformat_minor": 1
}