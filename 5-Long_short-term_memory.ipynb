{
 "cells": [
  {
   "cell_type": "markdown",
   "metadata": {},
   "source": [
    "# Activity recognition on the Capture24 dataset\n",
    "\n",
    "## Long short-term memory\n",
    "\n",
    "*This section assumes familiarity with [PyTorch](https://pytorch.org/)*\n",
    "\n",
    "We have seen the importance of accounting for temporal dependencies in\n",
    "the data to improve the classification performance. We have done so by using a\n",
    "Hidden Markov Model to smooth the predictions of a random forest. Here we\n",
    "look at using a more flexible model &mdash; the Long short-term memory (LSTM) &mdash;\n",
    "to model the temporal dependencies to smooth the predictions of the random\n",
    "forest.\n",
    "\n",
    "###### Setup"
   ]
  },
  {
   "cell_type": "code",
   "execution_count": 1,
   "metadata": {},
   "outputs": [],
   "source": [
    "import numpy as np\n",
    "import matplotlib.pyplot as plt\n",
    "from sklearn.ensemble import RandomForestClassifier\n",
    "import torch\n",
    "import torch.nn as nn\n",
    "import torch.nn.functional as F\n",
    "import torch.optim as optim\n",
    "import torch.backends.cudnn as cudnn\n",
    "# from tqdm import tqdm\n",
    "from tqdm.notebook import tqdm\n",
    "import utils\n",
    "\n",
    "# For reproducibility\n",
    "np.random.seed(42)\n",
    "torch.manual_seed(42)\n",
    "cudnn.benchmark = True"
   ]
  },
  {
   "cell_type": "markdown",
   "metadata": {},
   "source": [
    " ###### Grab a GPU if there is one "
   ]
  },
  {
   "cell_type": "code",
   "execution_count": 2,
   "metadata": {},
   "outputs": [
    {
     "name": "stdout",
     "output_type": "stream",
     "text": [
      "Using cuda device: 0\n"
     ]
    }
   ],
   "source": [
    "if torch.cuda.is_available():\n",
    "    device = torch.device(\"cuda\")\n",
    "    print(\"Using {} device: {}\".format(device, torch.cuda.current_device()))\n",
    "else:\n",
    "    device = torch.device(\"cpu\")\n",
    "    print(\"Using {}\".format(device))"
   ]
  },
  {
   "cell_type": "markdown",
   "metadata": {},
   "source": [
    " ###### Load dataset and hold out some instances for testing "
   ]
  },
  {
   "cell_type": "code",
   "execution_count": 3,
   "metadata": {},
   "outputs": [
    {
     "name": "stdout",
     "output_type": "stream",
     "text": [
      "Contents of capture24.npz: ['X_feats', 'y', 'pid', 'time', 'annotation']\n",
      "Shape of X_train: (325619, 125)\n",
      "Shape of X_test: (4991, 125)\n"
     ]
    }
   ],
   "source": [
    "data = np.load('capture24.npz', allow_pickle=True)\n",
    "# data = np.load('capture24_small.npz', allow_pickle=True)\n",
    "print(\"Contents of capture24.npz:\", data.files)\n",
    "X, y, pid, time = data['X_feats'], data['y'], data['pid'], data['time']\n",
    "\n",
    "# Hold out some participants for testing the model\n",
    "pids_test = [2, 3]  # participants 2 & 3\n",
    "mask_test = np.isin(pid, pids_test)\n",
    "mask_train = ~mask_test\n",
    "X_train, y_train, pid_train, time_train = \\\n",
    "    X[mask_train], y[mask_train], pid[mask_train], time[mask_train]\n",
    "X_test, y_test, pid_test, time_test = \\\n",
    "    X[mask_test], y[mask_test], pid[mask_test], time[mask_test]\n",
    "print(\"Shape of X_train:\", X_train.shape)\n",
    "print(\"Shape of X_test:\", X_test.shape)"
   ]
  },
  {
   "cell_type": "markdown",
   "metadata": {},
   "source": [
    " ###### Train random forest classifier "
   ]
  },
  {
   "cell_type": "code",
   "execution_count": 4,
   "metadata": {},
   "outputs": [
    {
     "name": "stderr",
     "output_type": "stream",
     "text": [
      "[Parallel(n_jobs=4)]: Using backend ThreadingBackend with 4 concurrent workers.\n",
      "[Parallel(n_jobs=4)]: Done  42 tasks      | elapsed:  1.0min\n",
      "[Parallel(n_jobs=4)]: Done 100 out of 100 | elapsed:  2.3min finished\n",
      "[Parallel(n_jobs=4)]: Using backend ThreadingBackend with 4 concurrent workers.\n",
      "[Parallel(n_jobs=4)]: Done  42 tasks      | elapsed:    0.1s\n",
      "[Parallel(n_jobs=4)]: Done 100 out of 100 | elapsed:    0.1s finished\n"
     ]
    }
   ],
   "source": [
    "random_forest = RandomForestClassifier(n_estimators=100, oob_score=True, n_jobs=4, verbose=True)\n",
    "random_forest.fit(X_train, y_train)\n",
    "# Grab out-of-bag probability estimations -- this will be the input to the LSTM\n",
    "Y_train = random_forest.oob_decision_function_.astype('float32')\n",
    "# This will be the test set inputs to the LSTM\n",
    "Y_test = random_forest.predict_proba(X_test).astype('float32')"
   ]
  },
  {
   "cell_type": "markdown",
   "metadata": {},
   "source": [
    "## Smoothing the predictions with a LSTM\n",
    "In the Hidden Markov Model, smoothing of the current prediction is based on\n",
    "the current and past prediction of the random forest. Here we use a LSTM\n",
    "to do the smoothing as a sequence-to-sequence prediction task: the neural\n",
    "network takes a sequence of random forest predictions and outputs the\n",
    "sequence of smoothed predictions.\n",
    "\n",
    "###### Architecture design\n",
    "Our baseline is a single-layer bidirectional LSTM.\n",
    "The input to the network is a `(seq_length,N,5)` array corresponding to `N`\n",
    "sequences of `seq_length` consecutive random forest probabilistic\n",
    "predictions. The network output is a `(N,5)` array representing the predicted\n",
    "*class scores* for each of the `N` sequences. To obtain probabilities, we can\n",
    "pass each row to a softmax. Then to report a class label, we can pick the\n",
    "highest probability in each row. We output class scores instead of class\n",
    "probabilities or labels because the loss function that we will use operates\n",
    "on the scores (see further below)."
   ]
  },
  {
   "cell_type": "code",
   "execution_count": 5,
   "metadata": {},
   "outputs": [],
   "source": [
    "class LSTM(nn.Module):\n",
    "\n",
    "    def __init__(self, input_size=5, output_size=5, hidden_size=1024):\n",
    "        super(LSTM, self).__init__()\n",
    "        self.input_size = input_size\n",
    "        self.hidden_size = hidden_size\n",
    "        self.output_size = output_size\n",
    "        self.lstm = nn.LSTM(input_size, hidden_size, bidirectional=True)\n",
    "        self.hidden2output = nn.Linear(2*hidden_size, output_size)\n",
    "\n",
    "    def forward(self, sequence):\n",
    "        hiddens, (hidden_last, cell_last) = self.lstm(\n",
    "            sequence.view(len(sequence), -1, self.input_size))\n",
    "        output = self.hidden2output(\n",
    "            hiddens.view(-1, hiddens.shape[-1])).view(\n",
    "                hiddens.shape[0], hiddens.shape[1], self.output_size\n",
    "        )\n",
    "        return output"
   ]
  },
  {
   "cell_type": "markdown",
   "metadata": {},
   "source": [
    "###### Helper functions\n",
    "\n",
    "We need a few helper functions:\n",
    "- A data loader that will provide the mini-batches during training.\n",
    "- A helper function that forward-passes the model on a dataset by chunks\n",
    "&mdash; this is simply to prevent the memory from blowing up.\n",
    "- A function that evaluates the model (RF + LSTM) on a dataset, to be used to\n",
    "track the performance during training."
   ]
  },
  {
   "cell_type": "code",
   "execution_count": 6,
   "metadata": {},
   "outputs": [],
   "source": [
    "def create_dataloader(Y, y=None, seq_length=3, batch_size=1, shuffle=False,\n",
    "    no_overlap=False, drop_irregular=False):\n",
    "    ''' Create a (batch) iterator over the dataset. It yields (batches of)\n",
    "    sequences of consecutive rows of Y and y of length <= seq_length (can be\n",
    "    less due to the boundaries). This iterator can also be implemented with\n",
    "    PyTorch's Dataset and DataLoader classes -- See\n",
    "    https://pytorch.org/tutorials/beginner/data_loading_tutorial.html '''\n",
    "    if drop_irregular:\n",
    "        n = len(Y) - seq_length + 1\n",
    "    else:\n",
    "        n = len(Y)\n",
    "    if no_overlap:\n",
    "        idxs = np.arange(0, n, seq_length)\n",
    "    else:\n",
    "        idxs = np.arange(n)\n",
    "    if shuffle:\n",
    "        idxs = np.random.permutation(idxs)\n",
    "    for i in range(0, len(idxs), batch_size):\n",
    "        idxs_batch = idxs[i:i+batch_size]\n",
    "        # Separate those with irregular length -- these will be yielded one by one\n",
    "        idxs_batch_regular = np.asarray(\n",
    "            [j for j in idxs_batch if len(Y[j:j+seq_length]) == seq_length]\n",
    "        )\n",
    "        idxs_batch_irregular = np.asarray(\n",
    "            [j for j in idxs_batch if j not in idxs_batch_regular]\n",
    "        )\n",
    "        # Yield batch of sequences of regular length (=seq_length)\n",
    "        sequence_batch = np.stack([Y[j:j+seq_length] for j in idxs_batch_regular], axis=1)\n",
    "        sequence_batch = torch.from_numpy(sequence_batch)\n",
    "        if y is None:\n",
    "            yield sequence_batch\n",
    "        else:\n",
    "            y_batch = np.stack([y[j:j+seq_length] for j in idxs_batch_regular], axis=1)\n",
    "            y_batch = torch.from_numpy(y_batch)\n",
    "            yield sequence_batch, y_batch\n",
    "        # Yield sequences of irregular length one by one\n",
    "        for j in idxs_batch_irregular:\n",
    "            sequence_batch = torch.from_numpy(Y[j:j+seq_length]).unsqueeze(1)\n",
    "            if y is None:\n",
    "                yield sequence_batch\n",
    "            else:\n",
    "                y_batch = torch.from_numpy(y[j:j+seq_length]).unsqueeze(1)\n",
    "                yield sequence_batch, y_batch\n",
    "\n",
    "def forward_by_batches(lstm, Y_in, seq_length):\n",
    "    ''' Forward pass model on a dataset. Do this by batches so that we do\n",
    "    not blow up the memory. '''\n",
    "    Y_out = []\n",
    "    lstm.eval()\n",
    "    with torch.no_grad():\n",
    "        for sequence in create_dataloader(\n",
    "            Y_in, seq_length=seq_length, batch_size=1024, shuffle=False, no_overlap=True\n",
    "        ):  # do not shuffle here!\n",
    "            sequence = sequence.to(device)\n",
    "            output = lstm(sequence)\n",
    "            Y_out.append(output)\n",
    "    lstm.train()\n",
    "    # Concatenate sequences in order -- need to transpose to get batch-first format\n",
    "    Y_out = torch.cat(\n",
    "        [output.transpose(1,0).reshape(-1, output.shape[-1]) for output in Y_out]\n",
    "    )\n",
    "    return Y_out\n",
    "\n",
    "def evaluate_model(random_forest, lstm, seq_length, Y, y, pid=None):\n",
    "    Y_lstm = forward_by_batches(lstm, Y, seq_length)  # lstm smoothing (scores)\n",
    "    loss = F.cross_entropy(Y_lstm, torch.from_numpy(y).to(device)).item()\n",
    "    Y_lstm = F.softmax(Y_lstm, dim=-1)  # convert to probabilities\n",
    "    y_lstm = torch.argmax(Y_lstm, dim=-1)  # convert to classes\n",
    "    y_lstm = y_lstm.cpu().numpy()  # cast to numpy array\n",
    "    kappa = utils.cohen_kappa_score(y, y_lstm, pid)\n",
    "    accuracy = utils.accuracy_score(y, y_lstm, pid)\n",
    "    return loss, kappa, accuracy"
   ]
  },
  {
   "cell_type": "markdown",
   "metadata": {},
   "source": [
    "###### Hyperparameters, model instantiation, loss function and optimizer\n",
    "\n",
    "Now we set the hyperparameters, instantiate the model, define the loss\n",
    "function (we use cross entropy for multiclass classification) and optimizer\n",
    "(we use AMSGRAD &mdash; a variant of SGD)."
   ]
  },
  {
   "cell_type": "code",
   "execution_count": 7,
   "metadata": {},
   "outputs": [
    {
     "name": "stdout",
     "output_type": "stream",
     "text": [
      "LSTM(\n",
      "  (lstm): LSTM(5, 1024, bidirectional=True)\n",
      "  (hidden2output): Linear(in_features=2048, out_features=5, bias=True)\n",
      ")\n"
     ]
    }
   ],
   "source": [
    "hidden_size = 1024  # size of LSTM's hidden state\n",
    "input_size = output_size = utils.NUM_CLASSES  # number of classes (sleep, sedentary, etc...)\n",
    "seq_length = 5  # sequence length\n",
    "num_epoch = 20  # num of epochs (full loops though the training set) for SGD training\n",
    "lr = 1e-3  # learning rate in SGD\n",
    "batch_size = 32  # size of the mini-batch in SGD\n",
    "\n",
    "lstm = LSTM(\n",
    "    input_size=input_size,\n",
    "    output_size=output_size,\n",
    "    hidden_size=hidden_size\n",
    ").to(device)\n",
    "print(lstm)\n",
    "\n",
    "loss_fn = nn.CrossEntropyLoss()\n",
    "optimizer = optim.Adam(lstm.parameters(), lr=lr, amsgrad=True)"
   ]
  },
  {
   "cell_type": "markdown",
   "metadata": {},
   "source": [
    "###### Training\n",
    "\n",
    "Training via mini-batch gradient descent begins here. We loop through the\n",
    "training set `num_epoch` times with the `dataloader` iterator."
   ]
  },
  {
   "cell_type": "code",
   "execution_count": 8,
   "metadata": {},
   "outputs": [
    {
     "data": {
      "application/vnd.jupyter.widget-view+json": {
       "model_id": "972d64f9ba164d64a6456230d41ba329",
       "version_major": 2,
       "version_minor": 0
      },
      "text/plain": [
       "HBox(children=(IntProgress(value=0, max=20), HTML(value='')))"
      ]
     },
     "metadata": {},
     "output_type": "display_data"
    },
    {
     "name": "stdout",
     "output_type": "stream",
     "text": [
      "\n"
     ]
    }
   ],
   "source": [
    "loss_history = []\n",
    "kappa_history = []\n",
    "accuracy_history = []\n",
    "loss_history_train = []\n",
    "for i in tqdm(range(num_epoch)):\n",
    "    dataloader = create_dataloader(Y_train, y_train, seq_length, batch_size, shuffle=True)\n",
    "    losses = []\n",
    "    for sequence, target in dataloader:\n",
    "        sequence, target = sequence.to(device), target.to(device)\n",
    "        lstm.zero_grad()\n",
    "        output = lstm(sequence)\n",
    "        loss = loss_fn(output.view(-1,output.shape[-1]), target.view(-1))\n",
    "        loss.backward()\n",
    "        optimizer.step()\n",
    "\n",
    "        # Logging -- track train loss\n",
    "        losses.append(loss.item())\n",
    "\n",
    "    # -------------------------------------------------------------------------\n",
    "    # Evaluate performance at the end of each epoch (full loop through the\n",
    "    # training set). We could also do this at every iteration, but this would\n",
    "    # be very expensive since we are evaluating on a large dataset.\n",
    "    # -------------------------------------------------------------------------\n",
    "\n",
    "    # Logging -- average train loss in this epoch\n",
    "    loss_history_train.append(np.mean(losses))\n",
    "\n",
    "    # Logging -- evaluate performance on test set\n",
    "    loss_test, kappa_test, accuracy_test = evaluate_model(\n",
    "        random_forest, lstm, seq_length, Y_test, y_test, pid_test)\n",
    "    loss_history.append(loss_test)\n",
    "    kappa_history.append(kappa_test)\n",
    "    accuracy_history.append(accuracy_test)"
   ]
  },
  {
   "cell_type": "markdown",
   "metadata": {},
   "source": [
    " ###### Plot score and loss history "
   ]
  },
  {
   "cell_type": "code",
   "execution_count": 9,
   "metadata": {},
   "outputs": [
    {
     "data": {
      "image/png": "[encoded data removed]",
      "text/plain": [
       "<Figure size 432x288 with 1 Axes>"
      ]
     },
     "metadata": {
      "needs_background": "light"
     },
     "output_type": "display_data"
    },
    {
     "data": {
      "image/png": "[encoded data removed]",
      "text/plain": [
       "<Figure size 432x288 with 2 Axes>"
      ]
     },
     "metadata": {
      "needs_background": "light"
     },
     "output_type": "display_data"
    }
   ],
   "source": [
    "# Loss history\n",
    "fig, ax = plt.subplots()\n",
    "ax.plot(loss_history_train, color='C0', label='train')\n",
    "ax.plot(loss_history, color='C1', label='test')\n",
    "ax.set_ylabel('loss')\n",
    "ax.set_xlabel('epoch')\n",
    "ax.legend()\n",
    "fig.show()\n",
    "\n",
    "# Kappa and accuracy history\n",
    "fig, (ax1, ax2) = plt.subplots(nrows=2, ncols=1, sharex=True, sharey=True)\n",
    "ax1.plot(kappa_history, color='C2', label='test')\n",
    "ax1.set_ylabel('kappa')\n",
    "ax1.legend()\n",
    "ax2.plot(accuracy_history, color='C2', label='test')\n",
    "ax2.set_ylabel('accuracy')\n",
    "ax2.set_xlabel('epoch')\n",
    "ax2.legend()\n",
    "fig.show()"
   ]
  },
  {
   "cell_type": "markdown",
   "metadata": {},
   "source": [
    "###### Ideas\n",
    "- Implement early stopping to select the model at its best out-of-sample performance. Do we track kappa or accuracy?\n",
    "- Tune size and number of layers of the LSTM. See [module doc](https://pytorch.org/docs/stable/nn.html#lstm).\n",
    "\n",
    "###### References\n",
    "- [Sequence models and LSTM in PyTorch](https://pytorch.org/tutorials/beginner/nlp/sequence_models_tutorial.html)\n",
    "- [A recipe for training neural networks](http://karpathy.github.io/2019/04/25/recipe/)"
   ]
  }
 ],
 "metadata": {
  "anaconda-cloud": {},
  "kernelspec": {
   "display_name": "Python 3",
   "language": "python",
   "name": "python3"
  },
  "language_info": {
   "codemirror_mode": {
    "name": "ipython",
    "version": 3
   },
   "file_extension": ".py",
   "mimetype": "text/x-python",
   "name": "python",
   "nbconvert_exporter": "python",
   "pygments_lexer": "ipython3",
   "version": "3.7.4"
  }
 },
 "nbformat": 4,
 "nbformat_minor": 1
}
