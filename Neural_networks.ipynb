{
 "cells": [
  {
   "cell_type": "markdown",
   "metadata": {},
   "source": [
    "# Activity recognition on the Capture24 dataset\n",
    "\n",
    "## Neural networks for feature engineering\n",
    "\n",
    "*This section assumes familiarity with [PyTorch](https://pytorch.org/)*\n",
    "\n",
    "In this section, instead of using the hand-crafted features, we use a neural network on the raw accelerometer measurements so that we let the neural network automatically learn relevant features for classification.\n",
    "\n",
    "###### Setup"
   ]
  },
  {
   "cell_type": "code",
   "execution_count": 9,
   "metadata": {},
   "outputs": [],
   "source": [
    "import numpy as np\n",
    "import matplotlib.pyplot as plt\n",
    "from scipy.ndimage import median_filter\n",
    "import torch\n",
    "import torch.nn as nn\n",
    "import torch.nn.functional as F\n",
    "import torch.optim as optim\n",
    "import torch.backends.cudnn as cudnn\n",
    "# from tqdm import tqdm\n",
    "from tqdm.notebook import tqdm\n",
    "import utils\n",
    "\n",
    "# For reproducibility\n",
    "np.random.seed(42)\n",
    "torch.manual_seed(42)\n",
    "cudnn.benchmark = True\n",
    "\n",
    "# Function to plot dict of scores\n",
    "def plot_scores(scores, xlabel=None, ylabel=None):\n",
    "    fig, ax = plt.subplots()\n",
    "    for key, vals in scores.items():\n",
    "        ax.plot(vals, label=key)\n",
    "    ax.set_xlabel(xlabel)\n",
    "    ax.set_ylabel(ylabel)\n",
    "    ax.legend()\n",
    "    return fig, ax"
   ]
  },
  {
   "cell_type": "markdown",
   "metadata": {},
   "source": [
    " ###### Load dataset and hold out some instances for testing "
   ]
  },
  {
   "cell_type": "code",
   "execution_count": 10,
   "metadata": {},
   "outputs": [
    {
     "name": "stdout",
     "output_type": "stream",
     "text": [
      "Contents in capture24.npz: ['X_feats', 'y', 'pid', 'time', 'annotation']\n",
      "Raw data shape: (11016, 3, 3000)\n",
      "Shape of X_train (6025, 3, 3000)\n",
      "Shape of X_test (4991, 3, 3000)\n"
     ]
    }
   ],
   "source": [
    "# data = np.load('capture24.npz', allow_pickle=True)\n",
    "data = np.load('capture24_small.npz', allow_pickle=True)\n",
    "print(\"Contents in capture24.npz:\", data.files)\n",
    "y, pid, time = data['y'], data['pid'], data['time']\n",
    "# X_raw = utils.load_raw('X_raw.dat')\n",
    "X_raw = np.load('X_raw_small.npy')\n",
    "print(\"Raw data shape:\", X_raw.shape)\n",
    "\n",
    "# Hold out some participants for testing the model\n",
    "pids_test = [2, 3]\n",
    "mask_test = np.isin(pid, pids_test)\n",
    "mask_train = ~mask_test\n",
    "y_train, y_test = y[mask_train], y[mask_test]\n",
    "pid_train, pid_test = pid[mask_train], pid[mask_test]\n",
    "X_train = utils.ArrayFromMask(X_raw, mask_train)\n",
    "X_test = utils.ArrayFromMask(X_raw, mask_test)\n",
    "print(\"Shape of X_train\", X_train.shape)\n",
    "print(\"Shape of X_test\", X_test.shape)"
   ]
  },
  {
   "cell_type": "markdown",
   "metadata": {},
   "source": [
    " ###### Grab a GPU if there is one "
   ]
  },
  {
   "cell_type": "code",
   "execution_count": 11,
   "metadata": {},
   "outputs": [
    {
     "name": "stdout",
     "output_type": "stream",
     "text": [
      "Using cpu\n"
     ]
    }
   ],
   "source": [
    "if torch.cuda.is_available():\n",
    "    device = torch.device(\"cuda\")\n",
    "    print(\"Using {} device: {}\".format(device, torch.cuda.current_device()))\n",
    "else:\n",
    "    device = torch.device(\"cpu\")\n",
    "    print(\"Using {}\".format(device))"
   ]
  },
  {
   "cell_type": "markdown",
   "metadata": {},
   "source": [
    "###### Architecture design\n",
    "\n",
    "As a baseline model, we use a convolutional neural network (CNN) with a typical pyramid-like structure. The input of the network is a `(N,3,3000)` array, corresponding to `N` instances of raw triaxial measurements of activity. The output of the network is a `(N,5)` array representing predicted *class scores* for each instance.\n",
    "To obtain probabilities, we can pass each row to a softmax. Then to report a class label, we can pick the highest probability for each row. We output class scores instead of class probabilities or labels because the loss function that we will use operates on the scores (see further below)."
   ]
  },
  {
   "cell_type": "code",
   "execution_count": 12,
   "metadata": {},
   "outputs": [],
   "source": [
    "class CNN(nn.Module):\n",
    "    def __init__(self, output_dim, in_channels, num_filters_base=8):\n",
    "        super(CNN, self).__init__()\n",
    "\n",
    "        self.cnn = nn.Sequential(\n",
    "            nn.Conv1d(in_channels, num_filters_base,\n",
    "                8, 4, 2, bias=False),  # state shape (N,num_filters_base,750)\n",
    "            nn.BatchNorm1d(num_filters_base),\n",
    "            nn.ReLU(True),\n",
    "            nn.Conv1d(num_filters_base, num_filters_base*2,\n",
    "                6, 4, 2, bias=False),  # state shape (N,num_filters_base*2,188)\n",
    "            nn.BatchNorm1d(num_filters_base*2),\n",
    "            nn.ReLU(True),\n",
    "            nn.Conv1d(num_filters_base*2, num_filters_base*4,\n",
    "                8, 4, 2, bias=False),  # state shape (N,num_filters_base*4,47)\n",
    "            nn.BatchNorm1d(num_filters_base*4),\n",
    "            nn.ReLU(True),\n",
    "            nn.Conv1d(num_filters_base*4, num_filters_base*8,\n",
    "                3, 2, 1, bias=False),  # state shape (N,num_filters_base*8,24)\n",
    "            nn.BatchNorm1d(num_filters_base*8),\n",
    "            nn.ReLU(True),\n",
    "            nn.Conv1d(num_filters_base*8, num_filters_base*16,\n",
    "                4, 2, 1, bias=False),  # state shape (N,num_filters_base*16,12)\n",
    "            nn.BatchNorm1d(num_filters_base*16),\n",
    "            nn.ReLU(True),\n",
    "            nn.Conv1d(num_filters_base*16, num_filters_base*32,\n",
    "                4, 2, 1, bias=False),  # state shape (N,num_filters_base*32,6)\n",
    "            nn.BatchNorm1d(num_filters_base*32),\n",
    "            nn.ReLU(True),\n",
    "            nn.Conv1d(num_filters_base*32, num_filters_base*64,\n",
    "                6, 1, 0, bias=False),  # state shape (N,num_filters_base*64,1)\n",
    "            nn.BatchNorm1d(num_filters_base*64),\n",
    "            nn.ReLU(True),\n",
    "            nn.Conv1d(num_filters_base*64, output_dim,\n",
    "                1, 1, 0, bias=True)  # state shape (N,output_dim,1)\n",
    "        )\n",
    "\n",
    "        for m in self.modules():\n",
    "            if isinstance(m, nn.Conv1d):\n",
    "                nn.init.kaiming_normal_(m.weight, mode='fan_out', nonlinearity='relu')\n",
    "            elif isinstance(m, (nn.BatchNorm1d, nn.GroupNorm)):\n",
    "                nn.init.constant_(m.weight, 1)\n",
    "                nn.init.constant_(m.bias, 0)\n",
    "\n",
    "    def forward(self, x):\n",
    "        return self.cnn(x).view(x.shape[0],-1)"
   ]
  },
  {
   "cell_type": "markdown",
   "metadata": {},
   "source": [
    "###### Helper functions\n",
    "\n",
    "We need a few helper functions:\n",
    "- A data loader that will provide the mini-batches during training.\n",
    "- A helper function that forward-passes the model on a dataset by chunks &mdash; this is simply to prevent the memory from blowing up.\n",
    "- A function to train a Hidden Markov Model (HMM) using the probabilistic predictions of the model for smoothing.\n",
    "- A function that evaluates the model+HMM on a dataset, to be used to track the performance during training."
   ]
  },
  {
   "cell_type": "code",
   "execution_count": 13,
   "metadata": {},
   "outputs": [],
   "source": [
    "def create_dataloader(X, y=None, batch_size=1, shuffle=False):\n",
    "    ''' Create a (batch) iterator over the dataset. Alternatively, use PyTorch\n",
    "    Dataset and DataLoader classes -- See\n",
    "    https://pytorch.org/tutorials/beginner/data_loading_tutorial.html '''\n",
    "    if shuffle:\n",
    "        idxs = np.random.permutation(np.arange(len(X)))\n",
    "    else:\n",
    "        idxs = np.arange(len(X))\n",
    "    for i in range(0, len(idxs), batch_size):\n",
    "        idxs_batch = idxs[i:i+batch_size]\n",
    "        X_batch = torch.from_numpy(X[idxs_batch])\n",
    "        if 'mu' in globals() and 'std' in globals():\n",
    "            X_batch = (X_batch - mu) / (std + 1e-16)  # normalization\n",
    "        if y is None:\n",
    "            yield X_batch\n",
    "        else:\n",
    "            y_batch = torch.from_numpy(y[idxs_batch])\n",
    "            yield X_batch, y_batch\n",
    "\n",
    "def forward_by_batches(cnn, X):\n",
    "    ''' Forward pass CNN model on a dataset. Do this by batches so that we do\n",
    "    not blow up the memory. '''\n",
    "    Y = []\n",
    "    cnn.eval()\n",
    "    with torch.no_grad():\n",
    "        for x in create_dataloader(X, batch_size=1024, shuffle=False):  # do not shuffle here!\n",
    "            x = x.to(device)\n",
    "            Y.append(cnn(x))\n",
    "    cnn.train()\n",
    "    Y = torch.cat(Y)\n",
    "    return Y\n",
    "\n",
    "def train_hmm(cnn, X, y):\n",
    "    ''' Use the probabilistic predictions of the CNN to compute the Hidden\n",
    "    Markov Model parameters '''\n",
    "    Y_pred = forward_by_batches(cnn, X)  # scores\n",
    "    Y_pred = F.softmax(Y_pred, dim=1)  # probabilities\n",
    "    Y_pred = Y_pred.cpu().numpy()  # cast to numpy array\n",
    "    prior, emission, transition = utils.train_hmm(Y_pred, y)\n",
    "    return prior, emission, transition\n",
    "\n",
    "def evaluate_model(cnn, prior, emission, transition, X, y, pid=None):\n",
    "    Y_pred = forward_by_batches(cnn, X)  # scores\n",
    "    Y_pred = F.softmax(Y_pred, dim=1)  # probabilities\n",
    "    y_pred = torch.argmax(Y_pred, dim=1)  # classes\n",
    "    y_pred = y_pred.cpu().numpy()  # cast to numpy array\n",
    "    y_pred = utils.viterbi(y_pred, prior, emission, transition)  # HMM smoothing\n",
    "    kappa = utils.cohen_kappa_score(y, y_pred, pid)\n",
    "    accuracy = utils.accuracy_score(y, y_pred, pid)\n",
    "    return kappa, accuracy\n"
   ]
  },
  {
   "cell_type": "markdown",
   "metadata": {},
   "source": [
    "###### Input data normalization\n",
    "A standard procedure is to normalize the input data via zero-centering and scaling to unit variance &mdash; this tends to aid the optimization of neural networks. We use our utility function `mu_std()` to obtain the mean and standard deviation. These will be used by the data loader to normalize the input. Note: if `X_train` fits in memory, simply `np.mean(X_train, axis=0)` and `np.std(X_train, axis=0)`."
   ]
  },
  {
   "cell_type": "code",
   "execution_count": 14,
   "metadata": {},
   "outputs": [
    {
     "name": "stdout",
     "output_type": "stream",
     "text": [
      "Computing normalization parameters...\n",
      "Done!\n"
     ]
    }
   ],
   "source": [
    "print(\"Computing normalization parameters...\")\n",
    "mu, std = utils.mu_std(X_train)\n",
    "mu, std = torch.from_numpy(mu), torch.from_numpy(std)  # cast to torch arrays\n",
    "print(\"Done!\")\n"
   ]
  },
  {
   "cell_type": "markdown",
   "metadata": {},
   "source": [
    "###### Hyperparameters, model instantiation, loss function and optimizer\n",
    "\n",
    "Now we set the hyperparameters, instantiate the model, define the loss\n",
    "function (we use cross entropy for multiclass classification) and optimizer\n",
    "(we use AMSGRAD &mdash; a variant of SGD)."
   ]
  },
  {
   "cell_type": "code",
   "execution_count": 15,
   "metadata": {},
   "outputs": [
    {
     "name": "stdout",
     "output_type": "stream",
     "text": [
      "CNN(\n",
      "  (cnn): Sequential(\n",
      "    (0): Conv1d(3, 8, kernel_size=(8,), stride=(4,), padding=(2,), bias=False)\n",
      "    (1): BatchNorm1d(8, eps=1e-05, momentum=0.1, affine=True, track_running_stats=True)\n",
      "    (2): ReLU(inplace=True)\n",
      "    (3): Conv1d(8, 16, kernel_size=(6,), stride=(4,), padding=(2,), bias=False)\n",
      "    (4): BatchNorm1d(16, eps=1e-05, momentum=0.1, affine=True, track_running_stats=True)\n",
      "    (5): ReLU(inplace=True)\n",
      "    (6): Conv1d(16, 32, kernel_size=(8,), stride=(4,), padding=(2,), bias=False)\n",
      "    (7): BatchNorm1d(32, eps=1e-05, momentum=0.1, affine=True, track_running_stats=True)\n",
      "    (8): ReLU(inplace=True)\n",
      "    (9): Conv1d(32, 64, kernel_size=(3,), stride=(2,), padding=(1,), bias=False)\n",
      "    (10): BatchNorm1d(64, eps=1e-05, momentum=0.1, affine=True, track_running_stats=True)\n",
      "    (11): ReLU(inplace=True)\n",
      "    (12): Conv1d(64, 128, kernel_size=(4,), stride=(2,), padding=(1,), bias=False)\n",
      "    (13): BatchNorm1d(128, eps=1e-05, momentum=0.1, affine=True, track_running_stats=True)\n",
      "    (14): ReLU(inplace=True)\n",
      "    (15): Conv1d(128, 256, kernel_size=(4,), stride=(2,), padding=(1,), bias=False)\n",
      "    (16): BatchNorm1d(256, eps=1e-05, momentum=0.1, affine=True, track_running_stats=True)\n",
      "    (17): ReLU(inplace=True)\n",
      "    (18): Conv1d(256, 512, kernel_size=(6,), stride=(1,), bias=False)\n",
      "    (19): BatchNorm1d(512, eps=1e-05, momentum=0.1, affine=True, track_running_stats=True)\n",
      "    (20): ReLU(inplace=True)\n",
      "    (21): Conv1d(512, 5, kernel_size=(1,), stride=(1,))\n",
      "  )\n",
      ")\n"
     ]
    }
   ],
   "source": [
    "num_filters_base = 8  # \"size\" of the neural network -- see CNN class definition\n",
    "in_channels = 3  # num of input channels -- equal to 3 for our raw triaxial timeseries\n",
    "output_dim = utils.NUM_CLASSES  # number of classes (sleep, sedentary, etc...)\n",
    "num_epochs = 10  # num of epochs (full loops though the training set) for SGD training\n",
    "lr = 1e-3  # learning rate in SGD\n",
    "batch_size = 32  # size of the mini-batch in SGD\n",
    "\n",
    "cnn = CNN(\n",
    "    in_channels=in_channels,\n",
    "    output_dim=output_dim,\n",
    "    num_filters_base=num_filters_base\n",
    ").to(device)\n",
    "print(cnn)\n",
    "\n",
    "loss_fn = nn.CrossEntropyLoss()\n",
    "optimizer = optim.Adam(cnn.parameters(), lr=lr, amsgrad=True)"
   ]
  },
  {
   "cell_type": "markdown",
   "metadata": {},
   "source": [
    "###### Training\n",
    "\n",
    "Training via mini-batch gradient descent begins here. We loop through the training set `num_epochs` times with the `dataloader` iterator."
   ]
  },
  {
   "cell_type": "code",
   "execution_count": 16,
   "metadata": {},
   "outputs": [
    {
     "data": {
      "application/vnd.jupyter.widget-view+json": {
       "model_id": "68f56674682348c19ce9265d5e25a794",
       "version_major": 2,
       "version_minor": 0
      },
      "text/plain": [
       "HBox(children=(IntProgress(value=0, max=10), HTML(value='')))"
      ]
     },
     "metadata": {},
     "output_type": "display_data"
    },
    {
     "name": "stdout",
     "output_type": "stream",
     "text": [
      "\n"
     ]
    }
   ],
   "source": [
    "loss_history = []\n",
    "kappa_history = {'train':[], 'test':[]}\n",
    "accuracy_history = {'train':[], 'test':[]}\n",
    "for i in tqdm(range(num_epochs)):\n",
    "    dataloader = create_dataloader(X_train, y_train, batch_size, shuffle=True)\n",
    "    for x, target in dataloader:\n",
    "        x, target = x.to(device), target.to(device)\n",
    "        cnn.zero_grad()\n",
    "        output = cnn(x)\n",
    "        loss = loss_fn(output, target)\n",
    "        loss.backward()\n",
    "        optimizer.step()\n",
    "\n",
    "        # Logging -- cross entropy loss\n",
    "        loss_history.append(loss.item())\n",
    "\n",
    "    # -------------------------------------------------------------------------\n",
    "    # Evalutate performance at the end of each epoch (full loop through the\n",
    "    # training set). We could also do this at every iteration, but this would\n",
    "    # be very expensive since we are evaluating on the entire dataset.\n",
    "    # Aditionally, at the end of the epoch we train a Hidden Markov Model to\n",
    "    # smooth the predictions of the CNN.\n",
    "    # -------------------------------------------------------------------------\n",
    "\n",
    "    prior, emission, transition = train_hmm(cnn, X_train, y_train)\n",
    "\n",
    "    # Logging -- performance on train set\n",
    "    kappa, accuracy = evaluate_model(\n",
    "        cnn, prior, emission, transition, X_train, y_train, pid_train)\n",
    "    kappa_history['train'].append(kappa)\n",
    "    accuracy_history['train'].append(accuracy)\n",
    "    # Logging -- performance on test set\n",
    "    kappa, accuracy = evaluate_model(\n",
    "        cnn, prior, emission, transition, X_test, y_test, pid_test)\n",
    "    kappa_history['test'].append(kappa)\n",
    "    accuracy_history['test'].append(accuracy)"
   ]
  },
  {
   "cell_type": "markdown",
   "metadata": {},
   "source": [
    " ###### Plot score and loss history "
   ]
  },
  {
   "cell_type": "code",
   "execution_count": 17,
   "metadata": {},
   "outputs": [
    {
     "data": {
      "image/png": "[encoded data removed]",
      "text/plain": [
       "<Figure size 432x288 with 1 Axes>"
      ]
     },
     "metadata": {
      "needs_background": "light"
     },
     "output_type": "display_data"
    },
    {
     "data": {
      "image/png": "[encoded data removed]",
      "text/plain": [
       "<Figure size 432x288 with 1 Axes>"
      ]
     },
     "metadata": {
      "needs_background": "light"
     },
     "output_type": "display_data"
    },
    {
     "data": {
      "image/png": "[encoded data removed]",
      "text/plain": [
       "<Figure size 432x288 with 1 Axes>"
      ]
     },
     "metadata": {
      "needs_background": "light"
     },
     "output_type": "display_data"
    }
   ],
   "source": [
    "# Loss history\n",
    "fig, ax = plt.subplots()\n",
    "ax.semilogy(median_filter(loss_history, size=100))  # smooth for visualization\n",
    "ax.set_ylabel('loss')\n",
    "ax.set_xlabel('iteration')\n",
    "fig.show()\n",
    "# fig.savefig('cnn_loss.png')\n",
    "\n",
    "# Score history\n",
    "fig, _ = plot_scores(kappa_history, xlabel='epoch', ylabel='kappa')\n",
    "fig.show()\n",
    "# fig.savefig('cnn_cohen_scores.png')\n",
    "fig, _ = plot_scores(accuracy_history, xlabel='epoch', ylabel='accuracy')\n",
    "fig.show()\n",
    "# fig.savefig('cnn_accuracy_scores.png')"
   ]
  },
  {
   "cell_type": "markdown",
   "metadata": {},
   "source": [
    "###### Ideas\n",
    "- Implement an early stopping mechanism to select the model at its best out-of-sample performance. Do we track kappa or accuracy?\n",
    "- Add a 4th channel containing the vector magnitude, i.e. $(x,y,z,m)$ where $m = \\sqrt{x^2+y^2+z^2}$\n",
    "- Instead of Cartesian coordinates, try [Spherical coordinates](https://en.wikipedia.org/wiki/Spherical_coordinate_system).\n",
    "- Modify the architecture. Feel free to use recent architectures such as ResNet.\n",
    "\n",
    "###### References\n",
    "\n",
    "- [A recipe for training neural networks](http://karpathy.github.io/2019/04/25/recipe/)"
   ]
  }
 ],
 "metadata": {
  "anaconda-cloud": {},
  "kernelspec": {
   "display_name": "Python 3",
   "language": "python",
   "name": "python3"
  },
  "language_info": {
   "codemirror_mode": {
    "name": "ipython",
    "version": 3
   },
   "file_extension": ".py",
   "mimetype": "text/x-python",
   "name": "python",
   "nbconvert_exporter": "python",
   "pygments_lexer": "ipython3",
   "version": "3.7.3"
  }
 },
 "nbformat": 4,
 "nbformat_minor": 1
}
